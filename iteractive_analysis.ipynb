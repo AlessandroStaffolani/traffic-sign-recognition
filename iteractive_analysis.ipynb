{
 "cells": [
  {
   "cell_type": "markdown",
   "metadata": {},
   "source": [
    "# Traffic sign recognition\n",
    "#### German traffic sign benchmark dataset"
   ]
  },
  {
   "cell_type": "code",
   "execution_count": 1,
   "metadata": {},
   "outputs": [],
   "source": [
    "# Import main libraries\n",
    "import pandas as pd\n",
    "import cv2 as cv\n",
    "import numpy as np\n",
    "import matplotlib.pyplot as plt\n",
    "%matplotlib inline\n",
    "\n",
    "# Import resource\n",
    "from src.preprocessors.HistogramEqualizer import HistogramEqualizer\n",
    "from src.preprocessors.Normalizer import Normalizer\n",
    "\n",
    "from src.DataGenerator import DataGenerator\n",
    "from src.models.Model import Model\n",
    "from src.models.SGDModel import SGDModel\n",
    "from src.Pipeline import Pipeline\n"
   ]
  },
  {
   "cell_type": "code",
   "execution_count": 2,
   "metadata": {},
   "outputs": [],
   "source": [
    "# usefull setting variables\n",
    "model_path = 'model/9-epochs-model.json'\n",
    "weights_path = 'model/weights/9-epochs-weights.h5'\n",
    "image_shape = 46\n",
    "batch_size = 200\n",
    "epochs = 3\n",
    "data_train_path = 'data/train'\n",
    "data_validation_path = 'data/validation'\n",
    "data_test_path = 'data/test'\n",
    "n_train_samples = 31367\n",
    "n_valid_samples = 7842\n",
    "n_test_samples = 12630\n",
    "workers = 1\n",
    "use_multiprocessing = False"
   ]
  },
  {
   "cell_type": "markdown",
   "metadata": {},
   "source": [
    "### Create model "
   ]
  },
  {
   "cell_type": "code",
   "execution_count": 3,
   "metadata": {},
   "outputs": [],
   "source": [
    "pipeline = Pipeline()\n",
    "pipeline.add_preprocessors((\n",
    "            HistogramEqualizer(),\n",
    "            Normalizer()\n",
    "        ))\n",
    "\n"
   ]
  },
  {
   "cell_type": "code",
   "execution_count": 4,
   "metadata": {},
   "outputs": [
    {
     "name": "stdout",
     "output_type": "stream",
     "text": [
      "_________________________________________________________________\n",
      "Layer (type)                 Output Shape              Param #   \n",
      "=================================================================\n",
      "conv2d_1 (Conv2D)            (None, 46, 46, 32)        320       \n",
      "_________________________________________________________________\n",
      "conv2d_2 (Conv2D)            (None, 44, 44, 32)        9248      \n",
      "_________________________________________________________________\n",
      "max_pooling2d_1 (MaxPooling2 (None, 22, 22, 32)        0         \n",
      "_________________________________________________________________\n",
      "dropout_1 (Dropout)          (None, 22, 22, 32)        0         \n",
      "_________________________________________________________________\n",
      "conv2d_3 (Conv2D)            (None, 22, 22, 64)        18496     \n",
      "_________________________________________________________________\n",
      "conv2d_4 (Conv2D)            (None, 20, 20, 64)        36928     \n",
      "_________________________________________________________________\n",
      "max_pooling2d_2 (MaxPooling2 (None, 10, 10, 64)        0         \n",
      "_________________________________________________________________\n",
      "dropout_2 (Dropout)          (None, 10, 10, 64)        0         \n",
      "_________________________________________________________________\n",
      "conv2d_5 (Conv2D)            (None, 10, 10, 128)       73856     \n",
      "_________________________________________________________________\n",
      "conv2d_6 (Conv2D)            (None, 8, 8, 128)         147584    \n",
      "_________________________________________________________________\n",
      "max_pooling2d_3 (MaxPooling2 (None, 4, 4, 128)         0         \n",
      "_________________________________________________________________\n",
      "dropout_3 (Dropout)          (None, 4, 4, 128)         0         \n",
      "_________________________________________________________________\n",
      "flatten_1 (Flatten)          (None, 2048)              0         \n",
      "_________________________________________________________________\n",
      "dense_1 (Dense)              (None, 512)               1049088   \n",
      "_________________________________________________________________\n",
      "dropout_4 (Dropout)          (None, 512)               0         \n",
      "_________________________________________________________________\n",
      "dense_2 (Dense)              (None, 43)                22059     \n",
      "=================================================================\n",
      "Total params: 1,357,579\n",
      "Trainable params: 1,357,579\n",
      "Non-trainable params: 0\n",
      "_________________________________________________________________\n"
     ]
    }
   ],
   "source": [
    "model = SGDModel(input_shape=(image_shape, image_shape, 1))\n",
    "model.create_model()\n",
    "model.compile()\n",
    "model.init_callbacks()\n",
    "\n",
    "model.model.summary()"
   ]
  },
  {
   "cell_type": "markdown",
   "metadata": {},
   "source": [
    "### Fit the model"
   ]
  },
  {
   "cell_type": "code",
   "execution_count": 36,
   "metadata": {},
   "outputs": [],
   "source": [
    "train_generator = DataGenerator(data_train_path, batch_size=batch_size,\n",
    "                                        image_shape=(image_shape, image_shape),\n",
    "                                        preprocessing_function=pipeline.evaluate)\n",
    "\n",
    "validation_generator = DataGenerator(data_validation_path, batch_size=batch_size,\n",
    "                                             image_shape=(image_shape, image_shape),\n",
    "                                             preprocessing_function=pipeline.evaluate)"
   ]
  },
  {
   "cell_type": "code",
   "execution_count": 37,
   "metadata": {},
   "outputs": [
    {
     "name": "stdout",
     "output_type": "stream",
     "text": [
      "Found 31367 images belonging to 43 classes.\n",
      "Found 7842 images belonging to 43 classes.\n",
      "Epoch 1/3\n",
      "156/156 [==============================] - 60s 385ms/step - loss: 1.5793 - acc: 0.6465 - val_loss: 0.5396 - val_acc: 0.8800\n",
      "Epoch 2/3\n",
      "156/156 [==============================] - 56s 357ms/step - loss: 0.3669 - acc: 0.9140 - val_loss: 0.2421 - val_acc: 0.9471\n",
      "Epoch 3/3\n",
      "156/156 [==============================] - 60s 382ms/step - loss: 0.1978 - acc: 0.9524 - val_loss: 0.1635 - val_acc: 0.9600\n"
     ]
    }
   ],
   "source": [
    "history = model.fit_generator(\n",
    "            train_generator.get_generator(),\n",
    "            steps_per_epoch=n_train_samples // batch_size,\n",
    "            epochs=epochs,\n",
    "            validation_data=validation_generator.get_generator(),\n",
    "            validation_steps=n_valid_samples // batch_size,\n",
    "            workers=workers,\n",
    "            use_multiprocessing=use_multiprocessing\n",
    "        )"
   ]
  },
  {
   "cell_type": "markdown",
   "metadata": {},
   "source": [
    "### Evaluate performance on train and validation sets"
   ]
  },
  {
   "cell_type": "markdown",
   "metadata": {},
   "source": [
    "#### Accuracy"
   ]
  },
  {
   "cell_type": "code",
   "execution_count": 108,
   "metadata": {},
   "outputs": [
    {
     "data": {
      "image/png": "[encoded data removed]",
      "text/plain": [
       "<Figure size 432x288 with 1 Axes>"
      ]
     },
     "metadata": {
      "needs_background": "light"
     },
     "output_type": "display_data"
    }
   ],
   "source": [
    "epochs_range = range(1, len(history.history['acc']) + 1)\n",
    "plt.plot(epochs_range, history.history['acc'])\n",
    "plt.plot(epochs_range, history.history['val_acc'])\n",
    "plt.title('model accuracy')\n",
    "plt.ylabel('accuracy')\n",
    "plt.xlabel('epoch')\n",
    "plt.legend(['train', 'validation', 'test'], loc='lower right')\n",
    "plt.show()"
   ]
  },
  {
   "cell_type": "markdown",
   "metadata": {},
   "source": [
    "#### Loss"
   ]
  },
  {
   "cell_type": "code",
   "execution_count": 109,
   "metadata": {},
   "outputs": [
    {
     "data": {
      "image/png": "[encoded data removed]",
      "text/plain": [
       "<Figure size 432x288 with 1 Axes>"
      ]
     },
     "metadata": {
      "needs_background": "light"
     },
     "output_type": "display_data"
    }
   ],
   "source": [
    "plt.plot(epochs_range, history.history['loss'])\n",
    "plt.plot(epochs_range, history.history['val_loss'])\n",
    "plt.title('model loss')\n",
    "plt.ylabel('loss')\n",
    "plt.xlabel('epoch')\n",
    "plt.legend(['train', 'validation'], loc='upper right')\n",
    "plt.show()"
   ]
  },
  {
   "cell_type": "markdown",
   "metadata": {},
   "source": [
    "### Test the model"
   ]
  },
  {
   "cell_type": "code",
   "execution_count": 110,
   "metadata": {},
   "outputs": [
    {
     "name": "stdout",
     "output_type": "stream",
     "text": [
      "Found 12630 images belonging to 43 classes.\n",
      "63/63 [==============================] - 15s 238ms/step\n",
      "\n",
      "Loss: 0.699734859523319\n",
      "Accuracy: 0.8938888822283063\n"
     ]
    }
   ],
   "source": [
    "test_generator = DataGenerator(data_test_path, batch_size=batch_size, image_shape=(image_shape, image_shape))\n",
    "scores = model.evaluate_generator(test_generator.get_generator(), n_test_samples // batch_size)\n",
    "print()\n",
    "print('Loss: ' + str(scores[0]))\n",
    "print('Accuracy: ' + str(scores[1]))"
   ]
  },
  {
   "cell_type": "code",
   "execution_count": 107,
   "metadata": {},
   "outputs": [
    {
     "data": {
      "image/png": "[encoded data removed]",
      "text/plain": [
       "<Figure size 864x432 with 2 Axes>"
      ]
     },
     "metadata": {
      "needs_background": "light"
     },
     "output_type": "display_data"
    }
   ],
   "source": [
    "accuracy = np.array([\n",
    "    history.history['acc'][-1],\n",
    "    history.history['val_acc'][-1],\n",
    "    scores[1]\n",
    "])\n",
    "\n",
    "loss = np.array([\n",
    "    history.history['loss'][-1],\n",
    "    history.history['val_loss'][-1],\n",
    "    scores[0]\n",
    "])\n",
    "\n",
    "names = ['train', 'validation', 'test']\n",
    "color = 'rbg'\n",
    "\n",
    "plt.figure(1, figsize=(12, 6))\n",
    "\n",
    "plt.subplot(121)\n",
    "plt.bar(names, accuracy, color=color)\n",
    "plt.subplot(122)\n",
    "plt.bar(names, loss, color=color)\n",
    "plt.suptitle('Accuracy and loss of train, validation, test sets')\n",
    "plt.show()"
   ]
  },
  {
   "cell_type": "code",
   "execution_count": null,
   "metadata": {},
   "outputs": [],
   "source": []
  }
 ],
 "metadata": {
  "kernelspec": {
   "display_name": "Python 3",
   "language": "python",
   "name": "python3"
  },
  "language_info": {
   "codemirror_mode": {
    "name": "ipython",
    "version": 3
   },
   "file_extension": ".py",
   "mimetype": "text/x-python",
   "name": "python",
   "nbconvert_exporter": "python",
   "pygments_lexer": "ipython3",
   "version": "3.6.5"
  }
 },
 "nbformat": 4,
 "nbformat_minor": 1
}
